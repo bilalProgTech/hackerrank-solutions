{
 "cells": [
  {
   "cell_type": "code",
   "execution_count": 1,
   "metadata": {},
   "outputs": [],
   "source": [
    "import pandas as pd\n",
    "import json\n",
    "\n",
    "from sklearn.linear_model import LinearRegression\n",
    "from sklearn.metrics import mean_squared_error"
   ]
  },
  {
   "cell_type": "code",
   "execution_count": 2,
   "metadata": {},
   "outputs": [],
   "source": [
    "subjects = ['Physics', 'Chemistry', 'ComputerScience', 'Hindi', \n",
    "            'Biology', 'PhysicalEducation', 'Economics', \n",
    "            'Accountancy', 'BusinessStudies', 'English', 'Mathematics']"
   ]
  },
  {
   "cell_type": "code",
   "execution_count": 3,
   "metadata": {},
   "outputs": [],
   "source": [
    "train = []\n",
    "with open('training.json') as file:\n",
    "    _ = file.readline()\n",
    "    for line in file.readlines():\n",
    "        marks = json.loads(line)\n",
    "        del marks['serial']\n",
    "        for subject in subjects:\n",
    "            if subject not in marks:\n",
    "                marks[subject] = 0\n",
    "        train.append(marks)"
   ]
  },
  {
   "cell_type": "code",
   "execution_count": 4,
   "metadata": {},
   "outputs": [],
   "source": [
    "x_train = pd.DataFrame(train, columns=subjects)\n",
    "y_train = x_train['Mathematics']"
   ]
  },
  {
   "cell_type": "code",
   "execution_count": 5,
   "metadata": {},
   "outputs": [],
   "source": [
    "x_train = x_train.drop('Mathematics', axis=1)"
   ]
  },
  {
   "cell_type": "code",
   "execution_count": 6,
   "metadata": {},
   "outputs": [
    {
     "data": {
      "text/plain": [
       "LinearRegression(copy_X=True, fit_intercept=True, n_jobs=None,\n",
       "         normalize=False)"
      ]
     },
     "execution_count": 6,
     "metadata": {},
     "output_type": "execute_result"
    }
   ],
   "source": [
    "regressor = LinearRegression()\n",
    "regressor.fit(x_train, y_train)"
   ]
  },
  {
   "cell_type": "code",
   "execution_count": 7,
   "metadata": {},
   "outputs": [
    {
     "name": "stdout",
     "output_type": "stream",
     "text": [
      "3\n",
      "{\"Physics\":2,\"Chemistry\":2,\"Biology\":1,\"English\":1,\"serial\":221375}\n",
      "{\"Physics\":3,\"Chemistry\":3,\"ComputerScience\":4,\"English\":4,\"serial\":150188}\n",
      "{\"Accountancy\":1,\"BusinessStudies\":1,\"Economics\":3,\"English\":1,\"serial\":12154}\n"
     ]
    }
   ],
   "source": [
    "n = int(input())\n",
    "test = []\n",
    "for i in range(n):\n",
    "    s = input()\n",
    "    marks = json.loads(s)\n",
    "    del marks['serial']\n",
    "    for subject in subjects:\n",
    "        if subject not in marks:\n",
    "            marks[subject] = 0\n",
    "    test.append(marks)"
   ]
  },
  {
   "cell_type": "code",
   "execution_count": 8,
   "metadata": {
    "scrolled": true
   },
   "outputs": [],
   "source": [
    "x_test = pd.DataFrame(test, columns=subjects[:-1])"
   ]
  },
  {
   "cell_type": "code",
   "execution_count": 9,
   "metadata": {},
   "outputs": [],
   "source": [
    "predict = regressor.predict(x_test)"
   ]
  },
  {
   "cell_type": "code",
   "execution_count": 10,
   "metadata": {},
   "outputs": [
    {
     "name": "stdout",
     "output_type": "stream",
     "text": [
      "2\n",
      "4\n",
      "3\n"
     ]
    }
   ],
   "source": [
    "for pred in predict:\n",
    "    print(int(round(pred)))"
   ]
  }
 ],
 "metadata": {
  "kernelspec": {
   "display_name": "Python 3",
   "language": "python",
   "name": "python3"
  },
  "language_info": {
   "codemirror_mode": {
    "name": "ipython",
    "version": 3
   },
   "file_extension": ".py",
   "mimetype": "text/x-python",
   "name": "python",
   "nbconvert_exporter": "python",
   "pygments_lexer": "ipython3",
   "version": "3.7.3"
  }
 },
 "nbformat": 4,
 "nbformat_minor": 2
}
